{
  "nbformat": 4,
  "nbformat_minor": 0,
  "metadata": {
    "colab": {
      "provenance": [],
      "include_colab_link": true
    },
    "kernelspec": {
      "name": "python3",
      "display_name": "Python 3"
    },
    "language_info": {
      "name": "python"
    }
  },
  "cells": [
    {
      "cell_type": "markdown",
      "metadata": {
        "id": "view-in-github",
        "colab_type": "text"
      },
      "source": [
        "<a href=\"https://colab.research.google.com/github/kimberrose/language-alchemist-gpt/blob/main/rose_s_resonance.ipynb\" target=\"_parent\"><img src=\"https://colab.research.google.com/assets/colab-badge.svg\" alt=\"Open In Colab\"/></a>"
      ]
    },
    {
      "cell_type": "code",
      "execution_count": 1,
      "metadata": {
        "colab": {
          "base_uri": "https://localhost:8080/",
          "height": 1000
        },
        "id": "XAlbD3A55F28",
        "outputId": "5ea2df6f-f1b6-43fa-bfce-280df267ebd5"
      },
      "outputs": [
        {
          "output_type": "display_data",
          "data": {
            "text/plain": [
              "<IPython.core.display.HTML object>"
            ],
            "text/html": [
              "\n",
              "     <input type=\"file\" id=\"files-e652ba78-be7f-4e90-b599-7be99b4168ad\" name=\"files[]\" multiple disabled\n",
              "        style=\"border:none\" />\n",
              "     <output id=\"result-e652ba78-be7f-4e90-b599-7be99b4168ad\">\n",
              "      Upload widget is only available when the cell has been executed in the\n",
              "      current browser session. Please rerun this cell to enable.\n",
              "      </output>\n",
              "      <script>// Copyright 2017 Google LLC\n",
              "//\n",
              "// Licensed under the Apache License, Version 2.0 (the \"License\");\n",
              "// you may not use this file except in compliance with the License.\n",
              "// You may obtain a copy of the License at\n",
              "//\n",
              "//      http://www.apache.org/licenses/LICENSE-2.0\n",
              "//\n",
              "// Unless required by applicable law or agreed to in writing, software\n",
              "// distributed under the License is distributed on an \"AS IS\" BASIS,\n",
              "// WITHOUT WARRANTIES OR CONDITIONS OF ANY KIND, either express or implied.\n",
              "// See the License for the specific language governing permissions and\n",
              "// limitations under the License.\n",
              "\n",
              "/**\n",
              " * @fileoverview Helpers for google.colab Python module.\n",
              " */\n",
              "(function(scope) {\n",
              "function span(text, styleAttributes = {}) {\n",
              "  const element = document.createElement('span');\n",
              "  element.textContent = text;\n",
              "  for (const key of Object.keys(styleAttributes)) {\n",
              "    element.style[key] = styleAttributes[key];\n",
              "  }\n",
              "  return element;\n",
              "}\n",
              "\n",
              "// Max number of bytes which will be uploaded at a time.\n",
              "const MAX_PAYLOAD_SIZE = 100 * 1024;\n",
              "\n",
              "function _uploadFiles(inputId, outputId) {\n",
              "  const steps = uploadFilesStep(inputId, outputId);\n",
              "  const outputElement = document.getElementById(outputId);\n",
              "  // Cache steps on the outputElement to make it available for the next call\n",
              "  // to uploadFilesContinue from Python.\n",
              "  outputElement.steps = steps;\n",
              "\n",
              "  return _uploadFilesContinue(outputId);\n",
              "}\n",
              "\n",
              "// This is roughly an async generator (not supported in the browser yet),\n",
              "// where there are multiple asynchronous steps and the Python side is going\n",
              "// to poll for completion of each step.\n",
              "// This uses a Promise to block the python side on completion of each step,\n",
              "// then passes the result of the previous step as the input to the next step.\n",
              "function _uploadFilesContinue(outputId) {\n",
              "  const outputElement = document.getElementById(outputId);\n",
              "  const steps = outputElement.steps;\n",
              "\n",
              "  const next = steps.next(outputElement.lastPromiseValue);\n",
              "  return Promise.resolve(next.value.promise).then((value) => {\n",
              "    // Cache the last promise value to make it available to the next\n",
              "    // step of the generator.\n",
              "    outputElement.lastPromiseValue = value;\n",
              "    return next.value.response;\n",
              "  });\n",
              "}\n",
              "\n",
              "/**\n",
              " * Generator function which is called between each async step of the upload\n",
              " * process.\n",
              " * @param {string} inputId Element ID of the input file picker element.\n",
              " * @param {string} outputId Element ID of the output display.\n",
              " * @return {!Iterable<!Object>} Iterable of next steps.\n",
              " */\n",
              "function* uploadFilesStep(inputId, outputId) {\n",
              "  const inputElement = document.getElementById(inputId);\n",
              "  inputElement.disabled = false;\n",
              "\n",
              "  const outputElement = document.getElementById(outputId);\n",
              "  outputElement.innerHTML = '';\n",
              "\n",
              "  const pickedPromise = new Promise((resolve) => {\n",
              "    inputElement.addEventListener('change', (e) => {\n",
              "      resolve(e.target.files);\n",
              "    });\n",
              "  });\n",
              "\n",
              "  const cancel = document.createElement('button');\n",
              "  inputElement.parentElement.appendChild(cancel);\n",
              "  cancel.textContent = 'Cancel upload';\n",
              "  const cancelPromise = new Promise((resolve) => {\n",
              "    cancel.onclick = () => {\n",
              "      resolve(null);\n",
              "    };\n",
              "  });\n",
              "\n",
              "  // Wait for the user to pick the files.\n",
              "  const files = yield {\n",
              "    promise: Promise.race([pickedPromise, cancelPromise]),\n",
              "    response: {\n",
              "      action: 'starting',\n",
              "    }\n",
              "  };\n",
              "\n",
              "  cancel.remove();\n",
              "\n",
              "  // Disable the input element since further picks are not allowed.\n",
              "  inputElement.disabled = true;\n",
              "\n",
              "  if (!files) {\n",
              "    return {\n",
              "      response: {\n",
              "        action: 'complete',\n",
              "      }\n",
              "    };\n",
              "  }\n",
              "\n",
              "  for (const file of files) {\n",
              "    const li = document.createElement('li');\n",
              "    li.append(span(file.name, {fontWeight: 'bold'}));\n",
              "    li.append(span(\n",
              "        `(${file.type || 'n/a'}) - ${file.size} bytes, ` +\n",
              "        `last modified: ${\n",
              "            file.lastModifiedDate ? file.lastModifiedDate.toLocaleDateString() :\n",
              "                                    'n/a'} - `));\n",
              "    const percent = span('0% done');\n",
              "    li.appendChild(percent);\n",
              "\n",
              "    outputElement.appendChild(li);\n",
              "\n",
              "    const fileDataPromise = new Promise((resolve) => {\n",
              "      const reader = new FileReader();\n",
              "      reader.onload = (e) => {\n",
              "        resolve(e.target.result);\n",
              "      };\n",
              "      reader.readAsArrayBuffer(file);\n",
              "    });\n",
              "    // Wait for the data to be ready.\n",
              "    let fileData = yield {\n",
              "      promise: fileDataPromise,\n",
              "      response: {\n",
              "        action: 'continue',\n",
              "      }\n",
              "    };\n",
              "\n",
              "    // Use a chunked sending to avoid message size limits. See b/62115660.\n",
              "    let position = 0;\n",
              "    do {\n",
              "      const length = Math.min(fileData.byteLength - position, MAX_PAYLOAD_SIZE);\n",
              "      const chunk = new Uint8Array(fileData, position, length);\n",
              "      position += length;\n",
              "\n",
              "      const base64 = btoa(String.fromCharCode.apply(null, chunk));\n",
              "      yield {\n",
              "        response: {\n",
              "          action: 'append',\n",
              "          file: file.name,\n",
              "          data: base64,\n",
              "        },\n",
              "      };\n",
              "\n",
              "      let percentDone = fileData.byteLength === 0 ?\n",
              "          100 :\n",
              "          Math.round((position / fileData.byteLength) * 100);\n",
              "      percent.textContent = `${percentDone}% done`;\n",
              "\n",
              "    } while (position < fileData.byteLength);\n",
              "  }\n",
              "\n",
              "  // All done.\n",
              "  yield {\n",
              "    response: {\n",
              "      action: 'complete',\n",
              "    }\n",
              "  };\n",
              "}\n",
              "\n",
              "scope.google = scope.google || {};\n",
              "scope.google.colab = scope.google.colab || {};\n",
              "scope.google.colab._files = {\n",
              "  _uploadFiles,\n",
              "  _uploadFilesContinue,\n",
              "};\n",
              "})(self);\n",
              "</script> "
            ]
          },
          "metadata": {}
        },
        {
          "output_type": "stream",
          "name": "stderr",
          "text": [
            "ERROR:root:Internal Python error in the inspect module.\n",
            "Below is the traceback from this internal error.\n",
            "\n"
          ]
        },
        {
          "output_type": "stream",
          "name": "stdout",
          "text": [
            "Traceback (most recent call last):\n",
            "  File \"/usr/local/lib/python3.10/dist-packages/IPython/core/interactiveshell.py\", line 3553, in run_code\n",
            "    exec(code_obj, self.user_global_ns, self.user_ns)\n",
            "  File \"<ipython-input-1-5511536b7da2>\", line 171, in <cell line: 170>\n",
            "    main()\n",
            "  File \"<ipython-input-1-5511536b7da2>\", line 55, in main\n",
            "    csv_file_path = upload_csv_file()\n",
            "  File \"<ipython-input-1-5511536b7da2>\", line 21, in upload_csv_file\n",
            "    uploaded = files.upload()\n",
            "  File \"/usr/local/lib/python3.10/dist-packages/google/colab/files.py\", line 69, in upload\n",
            "    uploaded_files = _upload_files(multiple=True)\n",
            "  File \"/usr/local/lib/python3.10/dist-packages/google/colab/files.py\", line 156, in _upload_files\n",
            "    result = _output.eval_js(\n",
            "  File \"/usr/local/lib/python3.10/dist-packages/google/colab/output/_js.py\", line 40, in eval_js\n",
            "    return _message.read_reply_from_input(request_id, timeout_sec)\n",
            "  File \"/usr/local/lib/python3.10/dist-packages/google/colab/_message.py\", line 96, in read_reply_from_input\n",
            "    time.sleep(0.025)\n",
            "KeyboardInterrupt\n",
            "\n",
            "During handling of the above exception, another exception occurred:\n",
            "\n",
            "Traceback (most recent call last):\n",
            "  File \"/usr/local/lib/python3.10/dist-packages/IPython/core/interactiveshell.py\", line 2099, in showtraceback\n",
            "    stb = value._render_traceback_()\n",
            "AttributeError: 'KeyboardInterrupt' object has no attribute '_render_traceback_'\n",
            "\n",
            "During handling of the above exception, another exception occurred:\n",
            "\n",
            "Traceback (most recent call last):\n",
            "  File \"/usr/local/lib/python3.10/dist-packages/IPython/core/ultratb.py\", line 1101, in get_records\n",
            "    return _fixed_getinnerframes(etb, number_of_lines_of_context, tb_offset)\n",
            "  File \"/usr/local/lib/python3.10/dist-packages/IPython/core/ultratb.py\", line 248, in wrapped\n",
            "    return f(*args, **kwargs)\n",
            "  File \"/usr/local/lib/python3.10/dist-packages/IPython/core/ultratb.py\", line 281, in _fixed_getinnerframes\n",
            "    records = fix_frame_records_filenames(inspect.getinnerframes(etb, context))\n",
            "  File \"/usr/lib/python3.10/inspect.py\", line 1662, in getinnerframes\n",
            "    frameinfo = (tb.tb_frame,) + getframeinfo(tb, context)\n",
            "  File \"/usr/lib/python3.10/inspect.py\", line 1620, in getframeinfo\n",
            "    filename = getsourcefile(frame) or getfile(frame)\n",
            "  File \"/usr/lib/python3.10/inspect.py\", line 829, in getsourcefile\n",
            "    module = getmodule(object, filename)\n",
            "  File \"/usr/lib/python3.10/inspect.py\", line 878, in getmodule\n",
            "    os.path.realpath(f)] = module.__name__\n",
            "  File \"/usr/lib/python3.10/posixpath.py\", line 396, in realpath\n",
            "    path, ok = _joinrealpath(filename[:0], filename, strict, {})\n",
            "  File \"/usr/lib/python3.10/posixpath.py\", line 429, in _joinrealpath\n",
            "    newpath = join(path, name)\n",
            "  File \"/usr/lib/python3.10/posixpath.py\", line 88, in join\n",
            "    path += sep + b\n",
            "KeyboardInterrupt\n"
          ]
        },
        {
          "output_type": "error",
          "ename": "TypeError",
          "evalue": "object of type 'NoneType' has no len()",
          "traceback": [
            "\u001b[0;31m---------------------------------------------------------------------------\u001b[0m",
            "\u001b[0;31mKeyboardInterrupt\u001b[0m                         Traceback (most recent call last)",
            "    \u001b[0;31m[... skipping hidden 1 frame]\u001b[0m\n",
            "\u001b[0;32m<ipython-input-1-5511536b7da2>\u001b[0m in \u001b[0;36m<cell line: 170>\u001b[0;34m()\u001b[0m\n\u001b[1;32m    170\u001b[0m \u001b[0;32mif\u001b[0m \u001b[0m__name__\u001b[0m \u001b[0;34m==\u001b[0m \u001b[0;34m\"__main__\"\u001b[0m\u001b[0;34m:\u001b[0m\u001b[0;34m\u001b[0m\u001b[0;34m\u001b[0m\u001b[0m\n\u001b[0;32m--> 171\u001b[0;31m     \u001b[0mmain\u001b[0m\u001b[0;34m(\u001b[0m\u001b[0;34m)\u001b[0m\u001b[0;34m\u001b[0m\u001b[0;34m\u001b[0m\u001b[0m\n\u001b[0m",
            "\u001b[0;32m<ipython-input-1-5511536b7da2>\u001b[0m in \u001b[0;36mmain\u001b[0;34m()\u001b[0m\n\u001b[1;32m     54\u001b[0m     \u001b[0;31m# Prompt the user to upload a CSV file\u001b[0m\u001b[0;34m\u001b[0m\u001b[0;34m\u001b[0m\u001b[0m\n\u001b[0;32m---> 55\u001b[0;31m     \u001b[0mcsv_file_path\u001b[0m \u001b[0;34m=\u001b[0m \u001b[0mupload_csv_file\u001b[0m\u001b[0;34m(\u001b[0m\u001b[0;34m)\u001b[0m\u001b[0;34m\u001b[0m\u001b[0;34m\u001b[0m\u001b[0m\n\u001b[0m\u001b[1;32m     56\u001b[0m \u001b[0;34m\u001b[0m\u001b[0m\n",
            "\u001b[0;32m<ipython-input-1-5511536b7da2>\u001b[0m in \u001b[0;36mupload_csv_file\u001b[0;34m()\u001b[0m\n\u001b[1;32m     20\u001b[0m \u001b[0;32mdef\u001b[0m \u001b[0mupload_csv_file\u001b[0m\u001b[0;34m(\u001b[0m\u001b[0;34m)\u001b[0m\u001b[0;34m:\u001b[0m\u001b[0;34m\u001b[0m\u001b[0;34m\u001b[0m\u001b[0m\n\u001b[0;32m---> 21\u001b[0;31m     \u001b[0muploaded\u001b[0m \u001b[0;34m=\u001b[0m \u001b[0mfiles\u001b[0m\u001b[0;34m.\u001b[0m\u001b[0mupload\u001b[0m\u001b[0;34m(\u001b[0m\u001b[0;34m)\u001b[0m\u001b[0;34m\u001b[0m\u001b[0;34m\u001b[0m\u001b[0m\n\u001b[0m\u001b[1;32m     22\u001b[0m     \u001b[0;32mfor\u001b[0m \u001b[0mfn\u001b[0m \u001b[0;32min\u001b[0m \u001b[0muploaded\u001b[0m\u001b[0;34m.\u001b[0m\u001b[0mkeys\u001b[0m\u001b[0;34m(\u001b[0m\u001b[0;34m)\u001b[0m\u001b[0;34m:\u001b[0m\u001b[0;34m\u001b[0m\u001b[0;34m\u001b[0m\u001b[0m\n",
            "\u001b[0;32m/usr/local/lib/python3.10/dist-packages/google/colab/files.py\u001b[0m in \u001b[0;36mupload\u001b[0;34m()\u001b[0m\n\u001b[1;32m     68\u001b[0m \u001b[0;34m\u001b[0m\u001b[0m\n\u001b[0;32m---> 69\u001b[0;31m   \u001b[0muploaded_files\u001b[0m \u001b[0;34m=\u001b[0m \u001b[0m_upload_files\u001b[0m\u001b[0;34m(\u001b[0m\u001b[0mmultiple\u001b[0m\u001b[0;34m=\u001b[0m\u001b[0;32mTrue\u001b[0m\u001b[0;34m)\u001b[0m\u001b[0;34m\u001b[0m\u001b[0;34m\u001b[0m\u001b[0m\n\u001b[0m\u001b[1;32m     70\u001b[0m   \u001b[0;31m# Mapping from original filename to filename as saved locally.\u001b[0m\u001b[0;34m\u001b[0m\u001b[0;34m\u001b[0m\u001b[0m\n",
            "\u001b[0;32m/usr/local/lib/python3.10/dist-packages/google/colab/files.py\u001b[0m in \u001b[0;36m_upload_files\u001b[0;34m(multiple)\u001b[0m\n\u001b[1;32m    155\u001b[0m   \u001b[0;31m# First result is always an indication that the file picker has completed.\u001b[0m\u001b[0;34m\u001b[0m\u001b[0;34m\u001b[0m\u001b[0m\n\u001b[0;32m--> 156\u001b[0;31m   result = _output.eval_js(\n\u001b[0m\u001b[1;32m    157\u001b[0m       'google.colab._files._uploadFiles(\"{input_id}\", \"{output_id}\")'.format(\n",
            "\u001b[0;32m/usr/local/lib/python3.10/dist-packages/google/colab/output/_js.py\u001b[0m in \u001b[0;36meval_js\u001b[0;34m(script, ignore_result, timeout_sec)\u001b[0m\n\u001b[1;32m     39\u001b[0m     \u001b[0;32mreturn\u001b[0m\u001b[0;34m\u001b[0m\u001b[0;34m\u001b[0m\u001b[0m\n\u001b[0;32m---> 40\u001b[0;31m   \u001b[0;32mreturn\u001b[0m \u001b[0m_message\u001b[0m\u001b[0;34m.\u001b[0m\u001b[0mread_reply_from_input\u001b[0m\u001b[0;34m(\u001b[0m\u001b[0mrequest_id\u001b[0m\u001b[0;34m,\u001b[0m \u001b[0mtimeout_sec\u001b[0m\u001b[0;34m)\u001b[0m\u001b[0;34m\u001b[0m\u001b[0;34m\u001b[0m\u001b[0m\n\u001b[0m\u001b[1;32m     41\u001b[0m \u001b[0;34m\u001b[0m\u001b[0m\n",
            "\u001b[0;32m/usr/local/lib/python3.10/dist-packages/google/colab/_message.py\u001b[0m in \u001b[0;36mread_reply_from_input\u001b[0;34m(message_id, timeout_sec)\u001b[0m\n\u001b[1;32m     95\u001b[0m     \u001b[0;32mif\u001b[0m \u001b[0mreply\u001b[0m \u001b[0;34m==\u001b[0m \u001b[0m_NOT_READY\u001b[0m \u001b[0;32mor\u001b[0m \u001b[0;32mnot\u001b[0m \u001b[0misinstance\u001b[0m\u001b[0;34m(\u001b[0m\u001b[0mreply\u001b[0m\u001b[0;34m,\u001b[0m \u001b[0mdict\u001b[0m\u001b[0;34m)\u001b[0m\u001b[0;34m:\u001b[0m\u001b[0;34m\u001b[0m\u001b[0;34m\u001b[0m\u001b[0m\n\u001b[0;32m---> 96\u001b[0;31m       \u001b[0mtime\u001b[0m\u001b[0;34m.\u001b[0m\u001b[0msleep\u001b[0m\u001b[0;34m(\u001b[0m\u001b[0;36m0.025\u001b[0m\u001b[0;34m)\u001b[0m\u001b[0;34m\u001b[0m\u001b[0;34m\u001b[0m\u001b[0m\n\u001b[0m\u001b[1;32m     97\u001b[0m       \u001b[0;32mcontinue\u001b[0m\u001b[0;34m\u001b[0m\u001b[0;34m\u001b[0m\u001b[0m\n",
            "\u001b[0;31mKeyboardInterrupt\u001b[0m: ",
            "\nDuring handling of the above exception, another exception occurred:\n",
            "\u001b[0;31mAttributeError\u001b[0m                            Traceback (most recent call last)",
            "\u001b[0;32m/usr/local/lib/python3.10/dist-packages/IPython/core/interactiveshell.py\u001b[0m in \u001b[0;36mshowtraceback\u001b[0;34m(self, exc_tuple, filename, tb_offset, exception_only, running_compiled_code)\u001b[0m\n\u001b[1;32m   2098\u001b[0m                         \u001b[0;31m# in the engines. This should return a list of strings.\u001b[0m\u001b[0;34m\u001b[0m\u001b[0;34m\u001b[0m\u001b[0m\n\u001b[0;32m-> 2099\u001b[0;31m                         \u001b[0mstb\u001b[0m \u001b[0;34m=\u001b[0m \u001b[0mvalue\u001b[0m\u001b[0;34m.\u001b[0m\u001b[0m_render_traceback_\u001b[0m\u001b[0;34m(\u001b[0m\u001b[0;34m)\u001b[0m\u001b[0;34m\u001b[0m\u001b[0;34m\u001b[0m\u001b[0m\n\u001b[0m\u001b[1;32m   2100\u001b[0m                     \u001b[0;32mexcept\u001b[0m \u001b[0mException\u001b[0m\u001b[0;34m:\u001b[0m\u001b[0;34m\u001b[0m\u001b[0;34m\u001b[0m\u001b[0m\n",
            "\u001b[0;31mAttributeError\u001b[0m: 'KeyboardInterrupt' object has no attribute '_render_traceback_'",
            "\nDuring handling of the above exception, another exception occurred:\n",
            "\u001b[0;31mTypeError\u001b[0m                                 Traceback (most recent call last)",
            "    \u001b[0;31m[... skipping hidden 1 frame]\u001b[0m\n",
            "\u001b[0;32m/usr/local/lib/python3.10/dist-packages/IPython/core/interactiveshell.py\u001b[0m in \u001b[0;36mshowtraceback\u001b[0;34m(self, exc_tuple, filename, tb_offset, exception_only, running_compiled_code)\u001b[0m\n\u001b[1;32m   2099\u001b[0m                         \u001b[0mstb\u001b[0m \u001b[0;34m=\u001b[0m \u001b[0mvalue\u001b[0m\u001b[0;34m.\u001b[0m\u001b[0m_render_traceback_\u001b[0m\u001b[0;34m(\u001b[0m\u001b[0;34m)\u001b[0m\u001b[0;34m\u001b[0m\u001b[0;34m\u001b[0m\u001b[0m\n\u001b[1;32m   2100\u001b[0m                     \u001b[0;32mexcept\u001b[0m \u001b[0mException\u001b[0m\u001b[0;34m:\u001b[0m\u001b[0;34m\u001b[0m\u001b[0;34m\u001b[0m\u001b[0m\n\u001b[0;32m-> 2101\u001b[0;31m                         stb = self.InteractiveTB.structured_traceback(etype,\n\u001b[0m\u001b[1;32m   2102\u001b[0m                                             value, tb, tb_offset=tb_offset)\n\u001b[1;32m   2103\u001b[0m \u001b[0;34m\u001b[0m\u001b[0m\n",
            "\u001b[0;32m/usr/local/lib/python3.10/dist-packages/IPython/core/ultratb.py\u001b[0m in \u001b[0;36mstructured_traceback\u001b[0;34m(self, etype, value, tb, tb_offset, number_of_lines_of_context)\u001b[0m\n\u001b[1;32m   1365\u001b[0m         \u001b[0;32melse\u001b[0m\u001b[0;34m:\u001b[0m\u001b[0;34m\u001b[0m\u001b[0;34m\u001b[0m\u001b[0m\n\u001b[1;32m   1366\u001b[0m             \u001b[0mself\u001b[0m\u001b[0;34m.\u001b[0m\u001b[0mtb\u001b[0m \u001b[0;34m=\u001b[0m \u001b[0mtb\u001b[0m\u001b[0;34m\u001b[0m\u001b[0;34m\u001b[0m\u001b[0m\n\u001b[0;32m-> 1367\u001b[0;31m         return FormattedTB.structured_traceback(\n\u001b[0m\u001b[1;32m   1368\u001b[0m             self, etype, value, tb, tb_offset, number_of_lines_of_context)\n\u001b[1;32m   1369\u001b[0m \u001b[0;34m\u001b[0m\u001b[0m\n",
            "\u001b[0;32m/usr/local/lib/python3.10/dist-packages/IPython/core/ultratb.py\u001b[0m in \u001b[0;36mstructured_traceback\u001b[0;34m(self, etype, value, tb, tb_offset, number_of_lines_of_context)\u001b[0m\n\u001b[1;32m   1265\u001b[0m         \u001b[0;32mif\u001b[0m \u001b[0mmode\u001b[0m \u001b[0;32min\u001b[0m \u001b[0mself\u001b[0m\u001b[0;34m.\u001b[0m\u001b[0mverbose_modes\u001b[0m\u001b[0;34m:\u001b[0m\u001b[0;34m\u001b[0m\u001b[0;34m\u001b[0m\u001b[0m\n\u001b[1;32m   1266\u001b[0m             \u001b[0;31m# Verbose modes need a full traceback\u001b[0m\u001b[0;34m\u001b[0m\u001b[0;34m\u001b[0m\u001b[0m\n\u001b[0;32m-> 1267\u001b[0;31m             return VerboseTB.structured_traceback(\n\u001b[0m\u001b[1;32m   1268\u001b[0m                 \u001b[0mself\u001b[0m\u001b[0;34m,\u001b[0m \u001b[0metype\u001b[0m\u001b[0;34m,\u001b[0m \u001b[0mvalue\u001b[0m\u001b[0;34m,\u001b[0m \u001b[0mtb\u001b[0m\u001b[0;34m,\u001b[0m \u001b[0mtb_offset\u001b[0m\u001b[0;34m,\u001b[0m \u001b[0mnumber_of_lines_of_context\u001b[0m\u001b[0;34m\u001b[0m\u001b[0;34m\u001b[0m\u001b[0m\n\u001b[1;32m   1269\u001b[0m             )\n",
            "\u001b[0;32m/usr/local/lib/python3.10/dist-packages/IPython/core/ultratb.py\u001b[0m in \u001b[0;36mstructured_traceback\u001b[0;34m(self, etype, evalue, etb, tb_offset, number_of_lines_of_context)\u001b[0m\n\u001b[1;32m   1122\u001b[0m         \u001b[0;34m\"\"\"Return a nice text document describing the traceback.\"\"\"\u001b[0m\u001b[0;34m\u001b[0m\u001b[0;34m\u001b[0m\u001b[0m\n\u001b[1;32m   1123\u001b[0m \u001b[0;34m\u001b[0m\u001b[0m\n\u001b[0;32m-> 1124\u001b[0;31m         formatted_exception = self.format_exception_as_a_whole(etype, evalue, etb, number_of_lines_of_context,\n\u001b[0m\u001b[1;32m   1125\u001b[0m                                                                tb_offset)\n\u001b[1;32m   1126\u001b[0m \u001b[0;34m\u001b[0m\u001b[0m\n",
            "\u001b[0;32m/usr/local/lib/python3.10/dist-packages/IPython/core/ultratb.py\u001b[0m in \u001b[0;36mformat_exception_as_a_whole\u001b[0;34m(self, etype, evalue, etb, number_of_lines_of_context, tb_offset)\u001b[0m\n\u001b[1;32m   1080\u001b[0m \u001b[0;34m\u001b[0m\u001b[0m\n\u001b[1;32m   1081\u001b[0m \u001b[0;34m\u001b[0m\u001b[0m\n\u001b[0;32m-> 1082\u001b[0;31m         \u001b[0mlast_unique\u001b[0m\u001b[0;34m,\u001b[0m \u001b[0mrecursion_repeat\u001b[0m \u001b[0;34m=\u001b[0m \u001b[0mfind_recursion\u001b[0m\u001b[0;34m(\u001b[0m\u001b[0morig_etype\u001b[0m\u001b[0;34m,\u001b[0m \u001b[0mevalue\u001b[0m\u001b[0;34m,\u001b[0m \u001b[0mrecords\u001b[0m\u001b[0;34m)\u001b[0m\u001b[0;34m\u001b[0m\u001b[0;34m\u001b[0m\u001b[0m\n\u001b[0m\u001b[1;32m   1083\u001b[0m \u001b[0;34m\u001b[0m\u001b[0m\n\u001b[1;32m   1084\u001b[0m         \u001b[0mframes\u001b[0m \u001b[0;34m=\u001b[0m \u001b[0mself\u001b[0m\u001b[0;34m.\u001b[0m\u001b[0mformat_records\u001b[0m\u001b[0;34m(\u001b[0m\u001b[0mrecords\u001b[0m\u001b[0;34m,\u001b[0m \u001b[0mlast_unique\u001b[0m\u001b[0;34m,\u001b[0m \u001b[0mrecursion_repeat\u001b[0m\u001b[0;34m)\u001b[0m\u001b[0;34m\u001b[0m\u001b[0;34m\u001b[0m\u001b[0m\n",
            "\u001b[0;32m/usr/local/lib/python3.10/dist-packages/IPython/core/ultratb.py\u001b[0m in \u001b[0;36mfind_recursion\u001b[0;34m(etype, value, records)\u001b[0m\n\u001b[1;32m    380\u001b[0m     \u001b[0;31m# first frame (from in to out) that looks different.\u001b[0m\u001b[0;34m\u001b[0m\u001b[0;34m\u001b[0m\u001b[0m\n\u001b[1;32m    381\u001b[0m     \u001b[0;32mif\u001b[0m \u001b[0;32mnot\u001b[0m \u001b[0mis_recursion_error\u001b[0m\u001b[0;34m(\u001b[0m\u001b[0metype\u001b[0m\u001b[0;34m,\u001b[0m \u001b[0mvalue\u001b[0m\u001b[0;34m,\u001b[0m \u001b[0mrecords\u001b[0m\u001b[0;34m)\u001b[0m\u001b[0;34m:\u001b[0m\u001b[0;34m\u001b[0m\u001b[0;34m\u001b[0m\u001b[0m\n\u001b[0;32m--> 382\u001b[0;31m         \u001b[0;32mreturn\u001b[0m \u001b[0mlen\u001b[0m\u001b[0;34m(\u001b[0m\u001b[0mrecords\u001b[0m\u001b[0;34m)\u001b[0m\u001b[0;34m,\u001b[0m \u001b[0;36m0\u001b[0m\u001b[0;34m\u001b[0m\u001b[0;34m\u001b[0m\u001b[0m\n\u001b[0m\u001b[1;32m    383\u001b[0m \u001b[0;34m\u001b[0m\u001b[0m\n\u001b[1;32m    384\u001b[0m     \u001b[0;31m# Select filename, lineno, func_name to track frames with\u001b[0m\u001b[0;34m\u001b[0m\u001b[0;34m\u001b[0m\u001b[0m\n",
            "\u001b[0;31mTypeError\u001b[0m: object of type 'NoneType' has no len()"
          ]
        }
      ],
      "source": [
        "import json\n",
        "import numpy as np\n",
        "import matplotlib.pyplot as plt\n",
        "from scipy.signal import find_peaks\n",
        "from scipy.fft import fft, fftfreq\n",
        "import pandas as pd\n",
        "from google.colab import files\n",
        "\n",
        "# Save data to JSON function\n",
        "def save_data_to_json(data, filename='long_term_memory.json'):\n",
        "    with open(filename, 'w') as json_file:\n",
        "        json.dump(data, json_file)\n",
        "\n",
        "# Load data from JSON function\n",
        "def load_data_from_json(filename='long_term_memory.json'):\n",
        "    with open(filename, 'r') as json_file:\n",
        "        return json.load(json_file)\n",
        "\n",
        "# Function to prompt user for CSV file upload in Google Colab\n",
        "def upload_csv_file():\n",
        "    uploaded = files.upload()\n",
        "    for fn in uploaded.keys():\n",
        "        print(f'User uploaded file \"{fn}\" with length {len(uploaded[fn])} bytes')\n",
        "    return list(uploaded.keys())[0]\n",
        "\n",
        "# Function to load CSV file\n",
        "def load_light_language_csv(file_path):\n",
        "    return pd.read_csv(file_path)\n",
        "\n",
        "# Function to break down light language input into syllables from CSV\n",
        "def break_down_syllables_from_csv(df):\n",
        "    syllables = df['syllable'].tolist()\n",
        "    return syllables\n",
        "\n",
        "# Function to translate syllables using CSV data\n",
        "def translate_syllables_from_csv(df):\n",
        "    original_language = df['original_language'].tolist()\n",
        "    back_to_english = df['back_to_english'].tolist()\n",
        "    return original_language, back_to_english\n",
        "\n",
        "# Function to simulate musical biofeedback\n",
        "def simulate_biofeedback(frequencies, duration=3.0, sample_rate=44100):\n",
        "    t = np.linspace(0, duration, int(sample_rate * duration), endpoint=False)\n",
        "    audio_wave = np.zeros_like(t)\n",
        "    segment_duration = duration / len(frequencies)\n",
        "    for i, freq in enumerate(frequencies):\n",
        "        start = int(i * segment_duration * sample_rate)\n",
        "        end = int((i + 1) * segment_duration * sample_rate)\n",
        "        audio_wave[start:end] = 0.5 * np.sin(2 * np.pi * freq * t[start:end])\n",
        "    return t, audio_wave\n",
        "\n",
        "# Main function to perform analysis\n",
        "def main():\n",
        "    # Prompt the user to upload a CSV file\n",
        "    csv_file_path = upload_csv_file()\n",
        "\n",
        "    # Load the light language CSV file\n",
        "    light_language_df = load_light_language_csv(csv_file_path)\n",
        "\n",
        "    # Display the first few rows of the dataframe to verify the data\n",
        "    print(light_language_df.head())\n",
        "\n",
        "    # Extract and translate syllables\n",
        "    syllables = break_down_syllables_from_csv(light_language_df)\n",
        "    original_language, back_to_english = translate_syllables_from_csv(light_language_df)\n",
        "\n",
        "    # Output results\n",
        "    print(\"Original Syllables:\", syllables)\n",
        "    print(\"Translated to Original Language:\", original_language)\n",
        "    print(\"Translated back to English:\", back_to_english)\n",
        "\n",
        "    # Simulate the \"Hey, hey, no, hey, no, hey!\" sound as a combination of sine waves\n",
        "    duration = 3.0  # 3 seconds\n",
        "    sample_rate = 44100  # Samples per second\n",
        "    frequencies = [220, 330, 250, 330, 250, 220]  # Frequencies in Hz corresponding to the \"Hey, hey, no, hey, no, hey!\"\n",
        "\n",
        "    # Generate time array\n",
        "    t = np.linspace(0, duration, int(sample_rate * duration), endpoint=False)\n",
        "\n",
        "    # Generate the audio wave combining the different frequencies with slight pauses\n",
        "    audio_wave = np.zeros_like(t)\n",
        "    segment_duration = duration / len(frequencies)\n",
        "    for i, freq in enumerate(frequencies):\n",
        "        start = int(i * segment_duration * sample_rate)\n",
        "        end = int((i + 1) * segment_duration * sample_rate)\n",
        "        audio_wave[start:end] = 0.5 * np.sin(2 * np.pi * freq * t[start:end])\n",
        "\n",
        "    # Perform Fourier Transform to find the frequency components\n",
        "    N = len(audio_wave)\n",
        "    yf = fft(audio_wave)\n",
        "    xf = fftfreq(N, 1 / sample_rate)\n",
        "\n",
        "    # Find the peaks in the magnitude spectrum\n",
        "    peaks, _ = find_peaks(np.abs(yf[:N//2]), height=0.01)\n",
        "    peak_frequencies = xf[peaks]\n",
        "\n",
        "    # Filter out the relevant frequency range (up to 1000 Hz for better visualization)\n",
        "    relevant_peaks = peak_frequencies[peak_frequencies < 1000]\n",
        "\n",
        "    # Simulate real-time Schumann Resonance data\n",
        "    schumann_frequencies = [7.83, 14.2, 20.03, 25.9, 32.0, 38.5, 44.5, 59.9]\n",
        "    schumann_magnitudes = np.random.rand(len(schumann_frequencies))  # Simulated magnitudes for demonstration\n",
        "\n",
        "    # Example data\n",
        "    data = {\n",
        "        'study_frequencies': [220, 440, 880],\n",
        "        'patient_outcomes': {\n",
        "            'balance_improvement': 30,\n",
        "            'gait_speed_improvement': 20\n",
        "        }\n",
        "    }\n",
        "\n",
        "    # Save data\n",
        "    save_data_to_json(data)\n",
        "\n",
        "    # Load data\n",
        "    loaded_data = load_data_from_json()\n",
        "\n",
        "    # Access loaded data\n",
        "    study_frequencies = loaded_data['study_frequencies']\n",
        "    patient_outcomes = loaded_data['patient_outcomes']\n",
        "\n",
        "    # Generate biofeedback audio wave\n",
        "    t, audio_wave = simulate_biofeedback(study_frequencies)\n",
        "\n",
        "    # Perform Fourier Transform to find the frequency components\n",
        "    N = len(audio_wave)\n",
        "    yf = fft(audio_wave)\n",
        "    xf = fftfreq(N, 1 / sample_rate)\n",
        "\n",
        "    # Find the peaks in the magnitude spectrum\n",
        "    peaks, _ = find_peaks(np.abs(yf[:N//2]), height=0.01)\n",
        "    peak_frequencies = xf[peaks]\n",
        "\n",
        "    # Create the report with subplots and text blocks\n",
        "    fig, axs = plt.subplots(4, 1, figsize=(20, 28))\n",
        "\n",
        "    # Waveform plot\n",
        "    axs[0].plot(t[:10000], audio_wave[:10000])  # Plot the first 10000 samples for clarity\n",
        "    axs[0].set_title(\"Waveform of Simulated Biofeedback\", fontsize=18)\n",
        "    axs[0].set_xlabel(\"Time (s)\", fontsize=16)\n",
        "    axs[0].set_ylabel(\"Amplitude\", fontsize=16)\n",
        "    axs[0].grid(True)\n",
        "\n",
        "    # Frequency analysis plot\n",
        "    axs[1].stem(xf[:N//2], np.abs(yf[:N//2]), use_line_collection=True)\n",
        "    axs[1].set_title(\"Frequency Analysis of Biofeedback\", fontsize=18)\n",
        "    axs[1].set_xlabel(\"Frequency (Hz)\", fontsize=16)\n",
        "    axs[1].set_ylabel(\"Magnitude\", fontsize=16)\n",
        "    axs[1].set_xlim(0, 1000)\n",
        "    axs[1].grid(True)\n",
        "\n",
        "    # Schumann Resonance bar diagram\n",
        "    axs[2].bar(schumann_frequencies, schumann_magnitudes, color='green')\n",
        "    axs[2].set_title(\"Schumann Resonance Frequencies\", fontsize=18)\n",
        "    axs[2].set_xlabel(\"Frequency (Hz)\", fontsize=16)\n",
        "    axs[2].set_ylabel(\"Magnitude\", fontsize=16)\n",
        "    axs[2].grid(True)\n",
        "\n",
        "    # Text block for patient outcomes\n",
        "    axs[3].axis('off')\n",
        "    text = f\"Patient Outcomes:\\nBalance Improvement: {patient_outcomes['balance_improvement']}%\\nGait Speed Improvement: {patient_outcomes['gait_speed_improvement']}%\"\n",
        "    axs[3].text(0.5, 0.5, text, fontsize=16, va='center', ha='center', wrap=True)\n",
        "\n",
        "    # Show plot\n",
        "    plt.tight_layout()\n",
        "    plt.show()\n",
        "\n",
        "# Run the main function\n",
        "if __name__ == \"__main__\":\n",
        "    main()"
      ]
    },
    {
      "cell_type": "code",
      "source": [],
      "metadata": {
        "id": "YjYym_7HrOkk"
      },
      "execution_count": null,
      "outputs": []
    },
    {
      "source": [
        "import json\n",
        "import numpy as np\n",
        "import matplotlib.pyplot as plt\n",
        "from scipy.signal import find_peaks\n",
        "from scipy.fft import fft, fftfreq\n",
        "import pandas as pd\n",
        "\n",
        "# Save data to JSON function\n",
        "def save_data_to_json(data, filename='long_term_memory.json'):\n",
        "    with open(filename, 'w') as json_file:\n",
        "        json.dump(data, json_file)\n",
        "\n",
        "# Load data from JSON function\n",
        "def load_data_from_json(filename='long_term_memory.json'):\n",
        "    with open(filename, 'r') as json_file:\n",
        "        return json.load(json_file)\n",
        "\n",
        "# Function to prompt user for CSV file upload in Google Colab\n",
        "def upload_csv_file():\n",
        "    # Prompt the user to select the CSV file\n",
        "    filename = input(\"Enter the path to the CSV file: \")\n",
        "\n",
        "    # Copy the file to the Jupyter notebook's directory\n",
        "shutil.copyfile(filename, \"uploaded_file.csv\")\n",
        "\n",
        "    return \"uploaded_file.csv\""
      ],
      "cell_type": "code",
      "metadata": {
        "id": "33BhuHvMrdHB",
        "outputId": "e61b0fb8-ada9-4ceb-cf50-ca847e1349de",
        "colab": {
          "base_uri": "https://localhost:8080/",
          "height": 106
        }
      },
      "execution_count": 6,
      "outputs": [
        {
          "output_type": "error",
          "ename": "IndentationError",
          "evalue": "unexpected indent (<ipython-input-6-5a9d8cfb4cd8>, line 26)",
          "traceback": [
            "\u001b[0;36m  File \u001b[0;32m\"<ipython-input-6-5a9d8cfb4cd8>\"\u001b[0;36m, line \u001b[0;32m26\u001b[0m\n\u001b[0;31m    return \"uploaded_file.csv\"\u001b[0m\n\u001b[0m    ^\u001b[0m\n\u001b[0;31mIndentationError\u001b[0m\u001b[0;31m:\u001b[0m unexpected indent\n"
          ]
        }
      ]
    },
    {
      "source": [
        "def upload_csv_file():\n",
        "    # Prompt the user to select the CSV file\n",
        "    filename = input(\"Enter the path to the CSV file: \")\n",
        "\n",
        "    # Copy the file to the Jupyter notebook's directory\n",
        "    shutil.copyfile(filename, \"uploaded_file.csv\")\n",
        "\n",
        "    return \"uploaded_file.csv\""
      ],
      "cell_type": "code",
      "metadata": {
        "id": "_fRjjGWpro6R"
      },
      "execution_count": 8,
      "outputs": []
    },
    {
      "cell_type": "code",
      "source": [],
      "metadata": {
        "id": "cV45WMuWrvs9"
      },
      "execution_count": null,
      "outputs": []
    },
    {
      "source": [
        "import pyqtgraph as pg\n",
        "from pyqtgraph.Qt import QtCore, QtGui\n",
        "import requests\n",
        "\n",
        "# Create the PyQtGraph application\n",
        "app = QtGui.QApplication([])\n",
        "\n",
        "# Create the main window\n",
        "win = pg.GraphicsWindow(title=\"Live Schumann Resonance Data\")\n",
        "\n",
        "# Create the plot widget\n",
        "plot = win.addPlot(title=\"Schumann Resonance Frequencies\")\n",
        "\n",
        "# Create a curve to display the data\n",
        "curve = plot.plot()\n",
        "\n",
        "# Define the URL of the API that provides Schumann resonance data\n",
        "api_url = \"https://api.example.com/schumann-resonance\"  # Replace with the actual API URL\n",
        "\n",
        "# Function to update the plot with the latest data\n",
        "def update_plot():\n",
        "    # Fetch the data\n",
        "    pass"
      ],
      "cell_type": "code",
      "metadata": {
        "id": "kl_r08KMr5cb",
        "outputId": "627ef2d6-2478-4189-8be0-e2b1d1ddeba0",
        "colab": {
          "base_uri": "https://localhost:8080/",
          "height": 383
        }
      },
      "execution_count": 11,
      "outputs": [
        {
          "output_type": "error",
          "ename": "ModuleNotFoundError",
          "evalue": "No module named 'pyqtgraph'",
          "traceback": [
            "\u001b[0;31m---------------------------------------------------------------------------\u001b[0m",
            "\u001b[0;31mModuleNotFoundError\u001b[0m                       Traceback (most recent call last)",
            "\u001b[0;32m<ipython-input-11-142010aedbab>\u001b[0m in \u001b[0;36m<cell line: 1>\u001b[0;34m()\u001b[0m\n\u001b[0;32m----> 1\u001b[0;31m \u001b[0;32mimport\u001b[0m \u001b[0mpyqtgraph\u001b[0m \u001b[0;32mas\u001b[0m \u001b[0mpg\u001b[0m\u001b[0;34m\u001b[0m\u001b[0;34m\u001b[0m\u001b[0m\n\u001b[0m\u001b[1;32m      2\u001b[0m \u001b[0;32mfrom\u001b[0m \u001b[0mpyqtgraph\u001b[0m\u001b[0;34m.\u001b[0m\u001b[0mQt\u001b[0m \u001b[0;32mimport\u001b[0m \u001b[0mQtCore\u001b[0m\u001b[0;34m,\u001b[0m \u001b[0mQtGui\u001b[0m\u001b[0;34m\u001b[0m\u001b[0;34m\u001b[0m\u001b[0m\n\u001b[1;32m      3\u001b[0m \u001b[0;32mimport\u001b[0m \u001b[0mrequests\u001b[0m\u001b[0;34m\u001b[0m\u001b[0;34m\u001b[0m\u001b[0m\n\u001b[1;32m      4\u001b[0m \u001b[0;34m\u001b[0m\u001b[0m\n\u001b[1;32m      5\u001b[0m \u001b[0;31m# Create the PyQtGraph application\u001b[0m\u001b[0;34m\u001b[0m\u001b[0;34m\u001b[0m\u001b[0m\n",
            "\u001b[0;31mModuleNotFoundError\u001b[0m: No module named 'pyqtgraph'",
            "",
            "\u001b[0;31m---------------------------------------------------------------------------\u001b[0;32m\nNOTE: If your import is failing due to a missing package, you can\nmanually install dependencies using either !pip or !apt.\n\nTo view examples of installing some common dependencies, click the\n\"Open Examples\" button below.\n\u001b[0;31m---------------------------------------------------------------------------\u001b[0m\n"
          ],
          "errorDetails": {
            "actions": [
              {
                "action": "open_url",
                "actionText": "Open Examples",
                "url": "/notebooks/snippets/importing_libraries.ipynb"
              }
            ]
          }
        }
      ]
    },
    {
      "source": [
        "import pyqtgraph as pg\n",
        "from pyqtgraph.Qt import QtCore, QtGui\n",
        "import requests\n",
        "\n",
        "# Create the PyQtGraph application\n",
        "app = QtGui.QApplication([])\n",
        "\n",
        "# Create the main window\n",
        "win = pg.GraphicsWindow(title=\"Live Schumann Resonance Data\")\n",
        "\n",
        "# Create the plot widget\n",
        "plot = win.addPlot(title=\"Schumann Resonance Frequencies\")\n",
        "\n",
        "# Create a curve to display the data\n",
        "curve = plot.plot()\n",
        "\n",
        "# Define the URL of the API that provides Schumann resonance data\n",
        "api_url = \"schumann_resonance_frequencies.png\"\n",
        "\n",
        "# Function to update the plot with the latest data\n",
        "def update_plot():\n",
        "    # Fetch the data from the API\n",
        "    response = requests.get(api_url)\n",
        "    if response.status_code == 200:\n",
        "        data = response.json()\n",
        "\n",
        "        # Extract the frequencies and magnitudes from the data\n",
        "        frequencies = data[\"frequencies\"]\n",
        "        magnitudes = data[\"magnitudes\"]\n",
        "\n",
        "        # Update the curve with the new data\n",
        "        curve.setData(frequencies, magnitudes)\n",
        "\n",
        "# Set up a timer to update the plot every second\n",
        "timer = QtCore.QTimer()\n",
        "timer.setInterval(1000)  # Update interval in milliseconds\n",
        "timer.timeout.connect(update_plot)\n",
        "\n",
        "# Start the timer\n",
        "timer.start()\n",
        "\n",
        "# Start the PyQtGraph application\n",
        "app.exec_()"
      ],
      "cell_type": "code",
      "metadata": {
        "id": "Hb5qQ_Q3sF8B",
        "outputId": "82a43d2e-e6fe-48d3-c051-23b3a70ec4dd",
        "colab": {
          "base_uri": "https://localhost:8080/",
          "height": 211
        }
      },
      "execution_count": 17,
      "outputs": [
        {
          "output_type": "error",
          "ename": "AttributeError",
          "evalue": "module 'pyqtgraph.Qt.QtGui' has no attribute 'QApplication'",
          "traceback": [
            "\u001b[0;31m---------------------------------------------------------------------------\u001b[0m",
            "\u001b[0;31mAttributeError\u001b[0m                            Traceback (most recent call last)",
            "\u001b[0;32m<ipython-input-17-d88ffcc13738>\u001b[0m in \u001b[0;36m<cell line: 6>\u001b[0;34m()\u001b[0m\n\u001b[1;32m      4\u001b[0m \u001b[0;34m\u001b[0m\u001b[0m\n\u001b[1;32m      5\u001b[0m \u001b[0;31m# Create the PyQtGraph application\u001b[0m\u001b[0;34m\u001b[0m\u001b[0;34m\u001b[0m\u001b[0m\n\u001b[0;32m----> 6\u001b[0;31m \u001b[0mapp\u001b[0m \u001b[0;34m=\u001b[0m \u001b[0mQtGui\u001b[0m\u001b[0;34m.\u001b[0m\u001b[0mQApplication\u001b[0m\u001b[0;34m(\u001b[0m\u001b[0;34m[\u001b[0m\u001b[0;34m]\u001b[0m\u001b[0;34m)\u001b[0m\u001b[0;34m\u001b[0m\u001b[0;34m\u001b[0m\u001b[0m\n\u001b[0m\u001b[1;32m      7\u001b[0m \u001b[0;34m\u001b[0m\u001b[0m\n\u001b[1;32m      8\u001b[0m \u001b[0;31m# Create the main window\u001b[0m\u001b[0;34m\u001b[0m\u001b[0;34m\u001b[0m\u001b[0m\n",
            "\u001b[0;31mAttributeError\u001b[0m: module 'pyqtgraph.Qt.QtGui' has no attribute 'QApplication'"
          ]
        }
      ]
    },
    {
      "source": [
        "# Install the pyqtgraph module\n",
        "!pip install pyqtgraph\n",
        "\n",
        "# Import the pyqtgraph module\n",
        "import pyqtgraph as pg\n",
        "\n",
        "# Rest of the code remains the same"
      ],
      "cell_type": "code",
      "metadata": {
        "id": "DVCnpqSgsi6j",
        "outputId": "7d85960f-6b4f-484a-ef0e-b5942b7ee4f6",
        "colab": {
          "base_uri": "https://localhost:8080/"
        }
      },
      "execution_count": 16,
      "outputs": [
        {
          "output_type": "stream",
          "name": "stdout",
          "text": [
            "Requirement already satisfied: pyqtgraph in /usr/local/lib/python3.10/dist-packages (0.13.7)\n",
            "Requirement already satisfied: numpy>=1.22.0 in /usr/local/lib/python3.10/dist-packages (from pyqtgraph) (1.25.2)\n"
          ]
        }
      ]
    },
    {
      "source": [
        "!pip install pyqt5  # Replace with PyQt6, PySide2, or PySide6 if needed"
      ],
      "cell_type": "code",
      "metadata": {
        "id": "slB5T4J8ssfr",
        "outputId": "fcf8e5b2-00db-476e-e5b5-ce806105757c",
        "colab": {
          "base_uri": "https://localhost:8080/"
        }
      },
      "execution_count": 14,
      "outputs": [
        {
          "output_type": "stream",
          "name": "stdout",
          "text": [
            "Collecting pyqt5\n",
            "  Downloading PyQt5-5.15.10-cp37-abi3-manylinux_2_17_x86_64.whl (8.2 MB)\n",
            "\u001b[2K     \u001b[90m━━━━━━━━━━━━━━━━━━━━━━━━━━━━━━━━━━━━━━━━\u001b[0m \u001b[32m8.2/8.2 MB\u001b[0m \u001b[31m16.1 MB/s\u001b[0m eta \u001b[36m0:00:00\u001b[0m\n",
            "\u001b[?25hCollecting PyQt5-sip<13,>=12.13 (from pyqt5)\n",
            "  Downloading PyQt5_sip-12.13.0-cp310-cp310-manylinux_2_5_x86_64.manylinux1_x86_64.whl (338 kB)\n",
            "\u001b[2K     \u001b[90m━━━━━━━━━━━━━━━━━━━━━━━━━━━━━━━━━━━━━━━━\u001b[0m \u001b[32m338.1/338.1 kB\u001b[0m \u001b[31m17.5 MB/s\u001b[0m eta \u001b[36m0:00:00\u001b[0m\n",
            "\u001b[?25hCollecting PyQt5-Qt5>=5.15.2 (from pyqt5)\n",
            "  Downloading PyQt5_Qt5-5.15.2-py3-none-manylinux2014_x86_64.whl (59.9 MB)\n",
            "\u001b[2K     \u001b[90m━━━━━━━━━━━━━━━━━━━━━━━━━━━━━━━━━━━━━━━━\u001b[0m \u001b[32m59.9/59.9 MB\u001b[0m \u001b[31m9.8 MB/s\u001b[0m eta \u001b[36m0:00:00\u001b[0m\n",
            "\u001b[?25hInstalling collected packages: PyQt5-Qt5, PyQt5-sip, pyqt5\n",
            "Successfully installed PyQt5-Qt5-5.15.2 PyQt5-sip-12.13.0 pyqt5-5.15.10\n"
          ]
        }
      ]
    },
    {
      "source": [
        "import pyqtgraph as pg"
      ],
      "cell_type": "code",
      "metadata": {
        "id": "wiC8BvE_stT5"
      },
      "execution_count": 15,
      "outputs": []
    },
    {
      "cell_type": "code",
      "source": [],
      "metadata": {
        "id": "fZ52QboErrRV"
      },
      "execution_count": null,
      "outputs": []
    },
    {
      "source": [
        "# Import the required modules\n",
        "import pyqtgraph as pg\n",
        "from pyqtgraph.Qt import QtCore, QtGui\n",
        "import requests\n",
        "\n",
        "# Create the PyQtGraph application\n",
        "app = QtGui.QApplication([])\n",
        "\n",
        "# Create the main window\n",
        "win = pg.GraphicsWindow(title=\"Live Schumann Resonance Data\")\n",
        "\n",
        "# Create the plot widget\n",
        "plot = win.addPlot(title=\"Schumann Resonance Frequencies\")\n",
        "\n",
        "# Create a curve to display the data\n",
        "curve = plot.plot()\n",
        "\n",
        "# Define the URL of the API that provides Schumann resonance data\n",
        "api_url = \"https://in5d.com/todays-live-schumann-resonance-charts-and-resources/\"  # Replace with the actual API URL\n",
        "\n",
        "# Function to update the plot with the latest data\n",
        "def update_plot():\n",
        "    # Fetch the data\n",
        "    response = requests.get(api_url)\n",
        "    if response.status_code == 200:\n",
        "        data = response.json()\n",
        "\n",
        "        # Extract the frequencies and magnitudes from the data\n",
        "        frequencies = data[\"frequencies\"]\n",
        "        magnitudes = data[\"magnitudes\"]\n",
        "\n",
        "        # Update the curve with the new data\n",
        "        curve.setData(frequencies, magnitudes)\n",
        "\n",
        "# Set up a timer to update the plot every second\n",
        "timer = QtCore.QTimer()\n",
        "timer.setInterval(1000)  # Update interval in milliseconds\n",
        "timer.timeout.connect(update_plot)\n",
        "\n",
        "# Start the timer\n",
        "timer.start()\n",
        "\n",
        "# Create a PDF writer\n",
        "pdf_writer = pg.exporters.GraphicsLayoutExporter(win.scene())\n",
        "\n",
        "# Set the export directory\n",
        "pdf_writer.export(\"schumann_resonance_data.pdf\")\n",
        "\n",
        "# Start the PyQtGraph application\n",
        "app.exec_()"
      ],
      "cell_type": "code",
      "metadata": {
        "id": "HZwMqDibvIQj",
        "outputId": "154a9dd9-cc93-4475-da06-dfb72ce4e54e",
        "colab": {
          "base_uri": "https://localhost:8080/",
          "height": 211
        }
      },
      "execution_count": 19,
      "outputs": [
        {
          "output_type": "error",
          "ename": "AttributeError",
          "evalue": "module 'pyqtgraph.Qt.QtGui' has no attribute 'QApplication'",
          "traceback": [
            "\u001b[0;31m---------------------------------------------------------------------------\u001b[0m",
            "\u001b[0;31mAttributeError\u001b[0m                            Traceback (most recent call last)",
            "\u001b[0;32m<ipython-input-19-29b2dd815bd1>\u001b[0m in \u001b[0;36m<cell line: 7>\u001b[0;34m()\u001b[0m\n\u001b[1;32m      5\u001b[0m \u001b[0;34m\u001b[0m\u001b[0m\n\u001b[1;32m      6\u001b[0m \u001b[0;31m# Create the PyQtGraph application\u001b[0m\u001b[0;34m\u001b[0m\u001b[0;34m\u001b[0m\u001b[0m\n\u001b[0;32m----> 7\u001b[0;31m \u001b[0mapp\u001b[0m \u001b[0;34m=\u001b[0m \u001b[0mQtGui\u001b[0m\u001b[0;34m.\u001b[0m\u001b[0mQApplication\u001b[0m\u001b[0;34m(\u001b[0m\u001b[0;34m[\u001b[0m\u001b[0;34m]\u001b[0m\u001b[0;34m)\u001b[0m\u001b[0;34m\u001b[0m\u001b[0;34m\u001b[0m\u001b[0m\n\u001b[0m\u001b[1;32m      8\u001b[0m \u001b[0;34m\u001b[0m\u001b[0m\n\u001b[1;32m      9\u001b[0m \u001b[0;31m# Create the main window\u001b[0m\u001b[0;34m\u001b[0m\u001b[0;34m\u001b[0m\u001b[0m\n",
            "\u001b[0;31mAttributeError\u001b[0m: module 'pyqtgraph.Qt.QtGui' has no attribute 'QApplication'"
          ]
        }
      ]
    },
    {
      "source": [
        "!pip install PyQt5"
      ],
      "cell_type": "code",
      "metadata": {
        "id": "N6cEUJpFvTeA",
        "outputId": "2da245a0-b00d-42e1-a7dc-d8fa3478f440",
        "colab": {
          "base_uri": "https://localhost:8080/"
        }
      },
      "execution_count": 20,
      "outputs": [
        {
          "output_type": "stream",
          "name": "stdout",
          "text": [
            "Requirement already satisfied: PyQt5 in /usr/local/lib/python3.10/dist-packages (5.15.10)\n",
            "Requirement already satisfied: PyQt5-sip<13,>=12.13 in /usr/local/lib/python3.10/dist-packages (from PyQt5) (12.13.0)\n",
            "Requirement already satisfied: PyQt5-Qt5>=5.15.2 in /usr/local/lib/python3.10/dist-packages (from PyQt5) (5.15.2)\n"
          ]
        }
      ]
    },
    {
      "source": [
        "import pyqtgraph as pg\n",
        "from PyQt5.QtWidgets import QApplication\n",
        "\n",
        "# Create the PyQtGraph application\n",
        "app = QApplication([])\n",
        "\n",
        "# Rest of the code remains the same"
      ],
      "cell_type": "code",
      "metadata": {
        "id": "3mTOmqN2vVNr"
      },
      "execution_count": null,
      "outputs": []
    },
    {
      "source": [
        "!pip install PyQt6"
      ],
      "cell_type": "code",
      "metadata": {
        "id": "hqbLshpRvWec",
        "outputId": "93b9f217-6dc8-421f-87cf-4e3d2ccfa933",
        "colab": {
          "base_uri": "https://localhost:8080/"
        }
      },
      "execution_count": null,
      "outputs": [
        {
          "output_type": "stream",
          "name": "stdout",
          "text": [
            "Collecting PyQt6\n",
            "  Downloading PyQt6-6.7.0-cp38-abi3-manylinux_2_28_x86_64.whl (7.9 MB)\n",
            "\u001b[2K     \u001b[90m━━━━━━━━━━━━━━━━━━━━━━━━━━━━━━━━━━━━━━━━\u001b[0m \u001b[32m7.9/7.9 MB\u001b[0m \u001b[31m3.3 MB/s\u001b[0m eta \u001b[36m0:00:00\u001b[0m\n",
            "\u001b[?25hCollecting PyQt6-sip<14,>=13.6 (from PyQt6)\n",
            "  Downloading PyQt6_sip-13.6.0-cp310-cp310-manylinux_2_5_x86_64.manylinux1_x86_64.whl (299 kB)\n",
            "\u001b[2K     \u001b[90m━━━━━━━━━━━━━━━━━━━━━━━━━━━━━━━━━━━━━━━━\u001b[0m \u001b[32m299.3/299.3 kB\u001b[0m \u001b[31m2.0 MB/s\u001b[0m eta \u001b[36m0:00:00\u001b[0m\n",
            "\u001b[?25hCollecting PyQt6-Qt6<6.8.0,>=6.7.0 (from PyQt6)\n",
            "  Downloading PyQt6_Qt6-6.7.0-py3-none-manylinux_2_28_x86_64.whl (74.0 MB)\n",
            "\u001b[2K     \u001b[91m━━━━━━━━━━━━━━━━━━━━━━━━━━━━━━━━━━━━\u001b[0m\u001b[90m╺\u001b[0m\u001b[90m━━━\u001b[0m \u001b[32m67.5/74.0 MB\u001b[0m \u001b[31m1.7 MB/s\u001b[0m eta \u001b[36m0:00:04\u001b[0m"
          ]
        }
      ]
    }
  ]
}